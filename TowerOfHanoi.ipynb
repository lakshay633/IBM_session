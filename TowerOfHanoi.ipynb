{
  "nbformat": 4,
  "nbformat_minor": 0,
  "metadata": {
    "colab": {
      "provenance": []
    },
    "kernelspec": {
      "name": "python3",
      "display_name": "Python 3"
    },
    "language_info": {
      "name": "python"
    }
  },
  "cells": [
    {
      "cell_type": "code",
      "execution_count": 1,
      "metadata": {
        "colab": {
          "base_uri": "https://localhost:8080/"
        },
        "id": "DrPQw16tmOMw",
        "outputId": "e0013db4-cd68-44f7-ff23-2feff5ea3f52"
      },
      "outputs": [
        {
          "output_type": "stream",
          "name": "stdout",
          "text": [
            "Enter the number of disks: 4\n",
            "Move disk 1 from rod A to rod B.\n",
            "Move disk 2 from rod A to rod C.\n",
            "Move disk 1 from rod B to rod C.\n",
            "Move disk 3 from rod A to rod B.\n",
            "Move disk 1 from rod C to rod A.\n",
            "Move disk 2 from rod C to rod B.\n",
            "Move disk 1 from rod A to rod B.\n",
            "Move disk 4 from rod A to rod C.\n",
            "Move disk 1 from rod B to rod C.\n",
            "Move disk 2 from rod B to rod A.\n",
            "Move disk 1 from rod C to rod A.\n",
            "Move disk 3 from rod B to rod C.\n",
            "Move disk 1 from rod A to rod B.\n",
            "Move disk 2 from rod A to rod C.\n",
            "Move disk 1 from rod B to rod C.\n"
          ]
        }
      ],
      "source": [
        "# Creating a recursive function\n",
        "def tower_of_hanoi(disks, source, auxiliary, target):\n",
        "    if(disks == 1):\n",
        "        print('Move disk 1 from rod {} to rod {}.'.format(source, target))\n",
        "        return\n",
        "    # function call itself\n",
        "    tower_of_hanoi(disks - 1, source, target, auxiliary)\n",
        "    print('Move disk {} from rod {} to rod {}.'.format(disks, source, target))\n",
        "    tower_of_hanoi(disks - 1, auxiliary, source, target)\n",
        "\n",
        "\n",
        "disks = int(input('Enter the number of disks: '))\n",
        "# We are referring source as A, auxiliary as B, and target as C\n",
        "tower_of_hanoi(disks, 'A', 'B', 'C')  # Calling the function"
      ]
    }
  ]
}